{
 "cells": [
  {
   "cell_type": "code",
   "execution_count": 7,
   "id": "f425fea7",
   "metadata": {},
   "outputs": [
    {
     "name": "stdout",
     "output_type": "stream",
     "text": [
      "Gradient of f(x,y,z) at (1,4,0) is  [ 2.71828183 -8.         18.        ]\n",
      "Value of f(x,y,z) at (1,4,0) 34.71828182845905\n"
     ]
    }
   ],
   "source": [
    "import numdifftools as nd\n",
    "import math\n",
    "from matplotlib import pyplot as plt\n",
    "import numpy as np\n",
    "\n",
    "def f_val(xarr): \n",
    "    return math.exp(xarr[0])+2*(xarr[1]**2)+3*(xarr[2]**2)\n",
    "grad2 = nd.Gradient(f_val)([1,-2,3])\n",
    "print(\"Gradient of f(x,y,z) at (1,4,0) is \", grad2)\n",
    "print(\"Value of f(x,y,z) at (1,4,0)\",f_val([1,4,0]))\n",
    "    "
   ]
  },
  {
   "cell_type": "code",
   "execution_count": 8,
   "id": "3570fafb",
   "metadata": {},
   "outputs": [],
   "source": [
    "def backtracking_line_search(x,delta_x,grad):\n",
    "    t=1\n",
    "    c=[(x[0]+(t*(delta_x[0]))),(x[1]+(t*(delta_x[1]))),(x[2]+(t*(delta_x[2])))]\n",
    "    a=f_val(c)\n",
    "    b=f_val(x)+alpha*t*(np.dot(grad.T,delta_x))\n",
    "    #print(a,b)\n",
    "    while a>b:\n",
    "        t=beta*t\n",
    "        c=[(x[0]+(t*(delta_x[0]))),(x[1]+(t*(delta_x[1]))),(x[2]+(t*(delta_x[2])))]\n",
    "        a=f_val(c)\n",
    "        b=f_val(x)+alpha*t*(np.dot(grad.T,delta_x))\n",
    "    return t"
   ]
  },
  {
   "cell_type": "code",
   "execution_count": 29,
   "id": "a7c0fc98",
   "metadata": {},
   "outputs": [
    {
     "name": "stdout",
     "output_type": "stream",
     "text": [
      "Total Iterations:  10\n",
      "Primal optimal point (x,y,z) is: [-9.00000000e+00  3.05405327e-18  0.00000000e+00]\n",
      "f-value after 10 iterations or Primal: 0.00012340980407979824\n"
     ]
    }
   ],
   "source": [
    "#Question: 2 --Newton Descent\n",
    "x=[1,4,0]\n",
    "alpha=0.1\n",
    "beta=0.7\n",
    "epsilon=0.0001\n",
    "iteration=0\n",
    "while True:\n",
    "    gradient=nd.Gradient(f_val)(x)\n",
    "    hess=nd.Hessian(f_val)(x)\n",
    "    hess_inv=np.linalg.inv(hess)\n",
    "    #print(hess,hess_inv)\n",
    "    delta_xnt=-1*np.dot(hess_inv,gradient)\n",
    "    lamda_sq=np.dot(gradient.T,np.dot(hess_inv,gradient))\n",
    "    if(lamda_sq*0.5<epsilon):\n",
    "        break\n",
    "    iteration=iteration+1\n",
    "    step_size=backtracking_line_search(x,delta_xnt,gradient)\n",
    "    x=x+step_size*delta_xnt\n",
    "    #print(x,f_val(x))\n",
    "print(\"Total Iterations: \",iteration)\n",
    "print(\"Primal optimal point (x,y,z) is:\",x)\n",
    "print(\"f-value after\",iteration,\"iterations or Primal:\",f_val(x))"
   ]
  },
  {
   "cell_type": "code",
   "execution_count": 31,
   "id": "50f975cc",
   "metadata": {},
   "outputs": [
    {
     "name": "stdout",
     "output_type": "stream",
     "text": [
      "x: -0.8253465152557646  y: 4.365069303051153  z: -0.365069303051153  lamda1: -0.43808316366138356 lamda2: -17.460277212204613\n",
      "Dual: 38.94556999263119\n"
     ]
    }
   ],
   "source": [
    "from scipy.optimize import fsolve\n",
    "from math import exp\n",
    "\n",
    "def equations(vars):\n",
    "    x, y, z, lamda1, lamda2 = vars\n",
    "    eq1 = exp(x)+lamda1\n",
    "    eq2 = 4*y + lamda2\n",
    "    eq3 = 6*z -5*lamda1\n",
    "    eq4 = x - 5*z -1\n",
    "    eq5 = y + z - 4\n",
    "    return [eq1, eq2, eq3, eq4, eq5]\n",
    "\n",
    "x, y, z, lamda1, lamda2 =  fsolve(equations,[-9,3.05,0,1,1])\n",
    "\n",
    "print(\"x:\",x,\" y:\", y,\" z:\", z,\" lamda1:\", lamda1,\"lamda2:\", lamda2)\n",
    "print(\"Dual:\",f_val([x,y,z]))"
   ]
  },
  {
   "cell_type": "code",
   "execution_count": null,
   "id": "d6e6fa56",
   "metadata": {},
   "outputs": [],
   "source": []
  },
  {
   "cell_type": "code",
   "execution_count": null,
   "id": "98f19bae",
   "metadata": {},
   "outputs": [],
   "source": []
  },
  {
   "cell_type": "code",
   "execution_count": null,
   "id": "19a693b2",
   "metadata": {},
   "outputs": [],
   "source": []
  },
  {
   "cell_type": "code",
   "execution_count": null,
   "id": "18e4d63f",
   "metadata": {},
   "outputs": [],
   "source": []
  }
 ],
 "metadata": {
  "kernelspec": {
   "display_name": "Python 3 (ipykernel)",
   "language": "python",
   "name": "python3"
  },
  "language_info": {
   "codemirror_mode": {
    "name": "ipython",
    "version": 3
   },
   "file_extension": ".py",
   "mimetype": "text/x-python",
   "name": "python",
   "nbconvert_exporter": "python",
   "pygments_lexer": "ipython3",
   "version": "3.10.2"
  }
 },
 "nbformat": 4,
 "nbformat_minor": 5
}
